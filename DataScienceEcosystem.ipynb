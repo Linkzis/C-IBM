{
 "cells": [
  {
   "cell_type": "markdown",
   "id": "a904b6e8",
   "metadata": {},
   "source": [
    "# DataScienceEcosystem"
   ]
  },
  {
   "cell_type": "markdown",
   "id": "0b029414",
   "metadata": {},
   "source": [
    "In this notebook, Data Science Tools and Ecosystem are summarized."
   ]
  },
  {
   "cell_type": "markdown",
   "id": "afcfe0c6",
   "metadata": {},
   "source": [
    "**Objectives:**\n",
    "* List popular languages for Data Science\n",
    "* List some commonly used libraries used by Data Scientists\n",
    "* Table of some Data Science Tools"
   ]
  },
  {
   "cell_type": "markdown",
   "id": "61fbc6c8",
   "metadata": {},
   "source": [
    "Some of the popular languages that Data Scientists use are:\n",
    "1. Python\n",
    "2. SQL\n",
    "3. R"
   ]
  },
  {
   "cell_type": "markdown",
   "id": "ec67a060",
   "metadata": {},
   "source": [
    "Some of the commonly used libraries used by Data Scientists include:\n",
    "1. NumPy\n",
    "2. Pandas\n",
    "3. Matplotlib\n",
    "4. Seaborn\n",
    "5. Pytorch"
   ]
  },
  {
   "cell_type": "markdown",
   "id": "0851eb17",
   "metadata": {},
   "source": [
    "|Data Science Tools|\n",
    "| -------------|\n",
    "| MySQL |\n",
    "| PostgreSQL |\n",
    "| Rstudio |"
   ]
  },
  {
   "cell_type": "markdown",
   "id": "207ff01a",
   "metadata": {},
   "source": [
    "### Below are a few examples of evaluating arithmetic expressions in Python"
   ]
  },
  {
   "cell_type": "code",
   "execution_count": 3,
   "id": "144627c9",
   "metadata": {},
   "outputs": [
    {
     "data": {
      "text/plain": [
       "17"
      ]
     },
     "execution_count": 3,
     "metadata": {},
     "output_type": "execute_result"
    }
   ],
   "source": [
    "#This a simple arithmetic expression to mutiply then add integers\n",
    "(3*4)+5"
   ]
  },
  {
   "cell_type": "code",
   "execution_count": 4,
   "id": "67e4cd9d",
   "metadata": {},
   "outputs": [
    {
     "data": {
      "text/plain": [
       "3.3333333333333335"
      ]
     },
     "execution_count": 4,
     "metadata": {},
     "output_type": "execute_result"
    }
   ],
   "source": [
    " #This will convert 200 minutes to hours by diving by 60\n",
    "200/60"
   ]
  },
  {
   "cell_type": "markdown",
   "id": "8bb91a27",
   "metadata": {},
   "source": [
    "## Author\n",
    "Luan Goulart"
   ]
  },
  {
   "cell_type": "code",
   "execution_count": null,
   "id": "783b8d3d",
   "metadata": {},
   "outputs": [],
   "source": []
  }
 ],
 "metadata": {
  "kernelspec": {
   "display_name": "Python 3 (ipykernel)",
   "language": "python",
   "name": "python3"
  },
  "language_info": {
   "codemirror_mode": {
    "name": "ipython",
    "version": 3
   },
   "file_extension": ".py",
   "mimetype": "text/x-python",
   "name": "python",
   "nbconvert_exporter": "python",
   "pygments_lexer": "ipython3",
   "version": "3.11.5"
  }
 },
 "nbformat": 4,
 "nbformat_minor": 5
}
